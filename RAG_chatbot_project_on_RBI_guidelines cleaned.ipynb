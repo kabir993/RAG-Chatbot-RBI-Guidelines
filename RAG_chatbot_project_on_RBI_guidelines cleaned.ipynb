{
 "cells": [
  {
   "cell_type": "code",
   "execution_count": 1,
   "metadata": {
    "id": "5pdDa8bWbD9J"
   },
   "outputs": [],
   "source": [
    "# ✅ Google Colab - HuggingFace-based RBI Risk Chatbot (LangChain + RAG + FAISS)\n"
   ]
  },
  {
   "cell_type": "code",
   "execution_count": 2,
   "metadata": {
    "colab": {
     "base_uri": "https://localhost:8080/"
    },
    "id": "_uUvPFBbbHox",
    "outputId": "5166169c-2c85-4482-f5de-7f2057bad44b"
   },
   "outputs": [
    {
     "name": "stdout",
     "output_type": "stream",
     "text": [
      "Requirement already satisfied: langchain in /usr/local/lib/python3.11/dist-packages (0.3.25)\n",
      "Collecting langchain-community\n",
      "  Downloading langchain_community-0.3.24-py3-none-any.whl.metadata (2.5 kB)\n",
      "Requirement already satisfied: sentence-transformers in /usr/local/lib/python3.11/dist-packages (4.1.0)\n",
      "Collecting faiss-cpu\n",
      "  Downloading faiss_cpu-1.11.0-cp311-cp311-manylinux_2_28_x86_64.whl.metadata (4.8 kB)\n",
      "Requirement already satisfied: transformers in /usr/local/lib/python3.11/dist-packages (4.52.3)\n",
      "Collecting transformers\n",
      "  Downloading transformers-4.52.4-py3-none-any.whl.metadata (38 kB)\n",
      "Requirement already satisfied: accelerate in /usr/local/lib/python3.11/dist-packages (1.7.0)\n",
      "Collecting PyPDF2\n",
      "  Downloading pypdf2-3.0.1-py3-none-any.whl.metadata (6.8 kB)\n",
      "Requirement already satisfied: gradio in /usr/local/lib/python3.11/dist-packages (5.31.0)\n",
      "Collecting gradio\n",
      "  Downloading gradio-5.33.0-py3-none-any.whl.metadata (16 kB)\n",
      "Requirement already satisfied: langchain-core<1.0.0,>=0.3.58 in /usr/local/lib/python3.11/dist-packages (from langchain) (0.3.63)\n",
      "Requirement already satisfied: langchain-text-splitters<1.0.0,>=0.3.8 in /usr/local/lib/python3.11/dist-packages (from langchain) (0.3.8)\n",
      "Requirement already satisfied: langsmith<0.4,>=0.1.17 in /usr/local/lib/python3.11/dist-packages (from langchain) (0.3.43)\n",
      "Requirement already satisfied: pydantic<3.0.0,>=2.7.4 in /usr/local/lib/python3.11/dist-packages (from langchain) (2.11.5)\n",
      "Requirement already satisfied: SQLAlchemy<3,>=1.4 in /usr/local/lib/python3.11/dist-packages (from langchain) (2.0.41)\n",
      "Requirement already satisfied: requests<3,>=2 in /usr/local/lib/python3.11/dist-packages (from langchain) (2.32.3)\n",
      "Requirement already satisfied: PyYAML>=5.3 in /usr/local/lib/python3.11/dist-packages (from langchain) (6.0.2)\n",
      "Requirement already satisfied: aiohttp<4.0.0,>=3.8.3 in /usr/local/lib/python3.11/dist-packages (from langchain-community) (3.11.15)\n",
      "Requirement already satisfied: tenacity!=8.4.0,<10,>=8.1.0 in /usr/local/lib/python3.11/dist-packages (from langchain-community) (9.1.2)\n",
      "Collecting dataclasses-json<0.7,>=0.5.7 (from langchain-community)\n",
      "  Downloading dataclasses_json-0.6.7-py3-none-any.whl.metadata (25 kB)\n",
      "Collecting pydantic-settings<3.0.0,>=2.4.0 (from langchain-community)\n",
      "  Downloading pydantic_settings-2.9.1-py3-none-any.whl.metadata (3.8 kB)\n",
      "Collecting httpx-sse<1.0.0,>=0.4.0 (from langchain-community)\n",
      "  Downloading httpx_sse-0.4.0-py3-none-any.whl.metadata (9.0 kB)\n",
      "Requirement already satisfied: numpy>=1.26.2 in /usr/local/lib/python3.11/dist-packages (from langchain-community) (2.0.2)\n",
      "Requirement already satisfied: tqdm in /usr/local/lib/python3.11/dist-packages (from sentence-transformers) (4.67.1)\n",
      "Requirement already satisfied: torch>=1.11.0 in /usr/local/lib/python3.11/dist-packages (from sentence-transformers) (2.6.0+cu124)\n",
      "Requirement already satisfied: scikit-learn in /usr/local/lib/python3.11/dist-packages (from sentence-transformers) (1.6.1)\n",
      "Requirement already satisfied: scipy in /usr/local/lib/python3.11/dist-packages (from sentence-transformers) (1.15.3)\n",
      "Requirement already satisfied: huggingface-hub>=0.20.0 in /usr/local/lib/python3.11/dist-packages (from sentence-transformers) (0.32.2)\n",
      "Requirement already satisfied: Pillow in /usr/local/lib/python3.11/dist-packages (from sentence-transformers) (11.2.1)\n",
      "Requirement already satisfied: typing_extensions>=4.5.0 in /usr/local/lib/python3.11/dist-packages (from sentence-transformers) (4.13.2)\n",
      "Requirement already satisfied: packaging in /usr/local/lib/python3.11/dist-packages (from faiss-cpu) (24.2)\n",
      "Requirement already satisfied: filelock in /usr/local/lib/python3.11/dist-packages (from transformers) (3.18.0)\n",
      "Requirement already satisfied: regex!=2019.12.17 in /usr/local/lib/python3.11/dist-packages (from transformers) (2024.11.6)\n",
      "Requirement already satisfied: tokenizers<0.22,>=0.21 in /usr/local/lib/python3.11/dist-packages (from transformers) (0.21.1)\n",
      "Requirement already satisfied: safetensors>=0.4.3 in /usr/local/lib/python3.11/dist-packages (from transformers) (0.5.3)\n",
      "Requirement already satisfied: psutil in /usr/local/lib/python3.11/dist-packages (from accelerate) (5.9.5)\n",
      "Requirement already satisfied: aiofiles<25.0,>=22.0 in /usr/local/lib/python3.11/dist-packages (from gradio) (24.1.0)\n",
      "Requirement already satisfied: anyio<5.0,>=3.0 in /usr/local/lib/python3.11/dist-packages (from gradio) (4.9.0)\n",
      "Requirement already satisfied: fastapi<1.0,>=0.115.2 in /usr/local/lib/python3.11/dist-packages (from gradio) (0.115.12)\n",
      "Requirement already satisfied: ffmpy in /usr/local/lib/python3.11/dist-packages (from gradio) (0.5.0)\n",
      "Collecting gradio-client==1.10.2 (from gradio)\n",
      "  Downloading gradio_client-1.10.2-py3-none-any.whl.metadata (7.1 kB)\n",
      "Requirement already satisfied: groovy~=0.1 in /usr/local/lib/python3.11/dist-packages (from gradio) (0.1.2)\n",
      "Requirement already satisfied: httpx>=0.24.1 in /usr/local/lib/python3.11/dist-packages (from gradio) (0.28.1)\n",
      "Requirement already satisfied: jinja2<4.0 in /usr/local/lib/python3.11/dist-packages (from gradio) (3.1.6)\n",
      "Requirement already satisfied: markupsafe<4.0,>=2.0 in /usr/local/lib/python3.11/dist-packages (from gradio) (3.0.2)\n",
      "Requirement already satisfied: orjson~=3.0 in /usr/local/lib/python3.11/dist-packages (from gradio) (3.10.18)\n",
      "Requirement already satisfied: pandas<3.0,>=1.0 in /usr/local/lib/python3.11/dist-packages (from gradio) (2.2.2)\n",
      "Requirement already satisfied: pydub in /usr/local/lib/python3.11/dist-packages (from gradio) (0.25.1)\n",
      "Requirement already satisfied: python-multipart>=0.0.18 in /usr/local/lib/python3.11/dist-packages (from gradio) (0.0.20)\n",
      "Requirement already satisfied: ruff>=0.9.3 in /usr/local/lib/python3.11/dist-packages (from gradio) (0.11.12)\n",
      "Requirement already satisfied: safehttpx<0.2.0,>=0.1.6 in /usr/local/lib/python3.11/dist-packages (from gradio) (0.1.6)\n",
      "Requirement already satisfied: semantic-version~=2.0 in /usr/local/lib/python3.11/dist-packages (from gradio) (2.10.0)\n",
      "Requirement already satisfied: starlette<1.0,>=0.40.0 in /usr/local/lib/python3.11/dist-packages (from gradio) (0.46.2)\n",
      "Requirement already satisfied: tomlkit<0.14.0,>=0.12.0 in /usr/local/lib/python3.11/dist-packages (from gradio) (0.13.2)\n",
      "Requirement already satisfied: typer<1.0,>=0.12 in /usr/local/lib/python3.11/dist-packages (from gradio) (0.16.0)\n",
      "Requirement already satisfied: uvicorn>=0.14.0 in /usr/local/lib/python3.11/dist-packages (from gradio) (0.34.2)\n",
      "Requirement already satisfied: fsspec in /usr/local/lib/python3.11/dist-packages (from gradio-client==1.10.2->gradio) (2025.3.2)\n",
      "Requirement already satisfied: websockets<16.0,>=10.0 in /usr/local/lib/python3.11/dist-packages (from gradio-client==1.10.2->gradio) (15.0.1)\n",
      "Requirement already satisfied: aiohappyeyeballs>=2.3.0 in /usr/local/lib/python3.11/dist-packages (from aiohttp<4.0.0,>=3.8.3->langchain-community) (2.6.1)\n",
      "Requirement already satisfied: aiosignal>=1.1.2 in /usr/local/lib/python3.11/dist-packages (from aiohttp<4.0.0,>=3.8.3->langchain-community) (1.3.2)\n",
      "Requirement already satisfied: attrs>=17.3.0 in /usr/local/lib/python3.11/dist-packages (from aiohttp<4.0.0,>=3.8.3->langchain-community) (25.3.0)\n",
      "Requirement already satisfied: frozenlist>=1.1.1 in /usr/local/lib/python3.11/dist-packages (from aiohttp<4.0.0,>=3.8.3->langchain-community) (1.6.0)\n",
      "Requirement already satisfied: multidict<7.0,>=4.5 in /usr/local/lib/python3.11/dist-packages (from aiohttp<4.0.0,>=3.8.3->langchain-community) (6.4.4)\n",
      "Requirement already satisfied: propcache>=0.2.0 in /usr/local/lib/python3.11/dist-packages (from aiohttp<4.0.0,>=3.8.3->langchain-community) (0.3.1)\n",
      "Requirement already satisfied: yarl<2.0,>=1.17.0 in /usr/local/lib/python3.11/dist-packages (from aiohttp<4.0.0,>=3.8.3->langchain-community) (1.20.0)\n",
      "Requirement already satisfied: idna>=2.8 in /usr/local/lib/python3.11/dist-packages (from anyio<5.0,>=3.0->gradio) (3.10)\n",
      "Requirement already satisfied: sniffio>=1.1 in /usr/local/lib/python3.11/dist-packages (from anyio<5.0,>=3.0->gradio) (1.3.1)\n",
      "Collecting marshmallow<4.0.0,>=3.18.0 (from dataclasses-json<0.7,>=0.5.7->langchain-community)\n",
      "  Downloading marshmallow-3.26.1-py3-none-any.whl.metadata (7.3 kB)\n",
      "Collecting typing-inspect<1,>=0.4.0 (from dataclasses-json<0.7,>=0.5.7->langchain-community)\n",
      "  Downloading typing_inspect-0.9.0-py3-none-any.whl.metadata (1.5 kB)\n",
      "Requirement already satisfied: certifi in /usr/local/lib/python3.11/dist-packages (from httpx>=0.24.1->gradio) (2025.4.26)\n",
      "Requirement already satisfied: httpcore==1.* in /usr/local/lib/python3.11/dist-packages (from httpx>=0.24.1->gradio) (1.0.9)\n",
      "Requirement already satisfied: h11>=0.16 in /usr/local/lib/python3.11/dist-packages (from httpcore==1.*->httpx>=0.24.1->gradio) (0.16.0)\n",
      "Requirement already satisfied: hf-xet<2.0.0,>=1.1.2 in /usr/local/lib/python3.11/dist-packages (from huggingface-hub>=0.20.0->sentence-transformers) (1.1.2)\n",
      "Requirement already satisfied: jsonpatch<2.0,>=1.33 in /usr/local/lib/python3.11/dist-packages (from langchain-core<1.0.0,>=0.3.58->langchain) (1.33)\n",
      "Requirement already satisfied: requests-toolbelt<2.0.0,>=1.0.0 in /usr/local/lib/python3.11/dist-packages (from langsmith<0.4,>=0.1.17->langchain) (1.0.0)\n",
      "Requirement already satisfied: zstandard<0.24.0,>=0.23.0 in /usr/local/lib/python3.11/dist-packages (from langsmith<0.4,>=0.1.17->langchain) (0.23.0)\n",
      "Requirement already satisfied: python-dateutil>=2.8.2 in /usr/local/lib/python3.11/dist-packages (from pandas<3.0,>=1.0->gradio) (2.9.0.post0)\n",
      "Requirement already satisfied: pytz>=2020.1 in /usr/local/lib/python3.11/dist-packages (from pandas<3.0,>=1.0->gradio) (2025.2)\n",
      "Requirement already satisfied: tzdata>=2022.7 in /usr/local/lib/python3.11/dist-packages (from pandas<3.0,>=1.0->gradio) (2025.2)\n",
      "Requirement already satisfied: annotated-types>=0.6.0 in /usr/local/lib/python3.11/dist-packages (from pydantic<3.0.0,>=2.7.4->langchain) (0.7.0)\n",
      "Requirement already satisfied: pydantic-core==2.33.2 in /usr/local/lib/python3.11/dist-packages (from pydantic<3.0.0,>=2.7.4->langchain) (2.33.2)\n",
      "Requirement already satisfied: typing-inspection>=0.4.0 in /usr/local/lib/python3.11/dist-packages (from pydantic<3.0.0,>=2.7.4->langchain) (0.4.1)\n",
      "Collecting python-dotenv>=0.21.0 (from pydantic-settings<3.0.0,>=2.4.0->langchain-community)\n",
      "  Downloading python_dotenv-1.1.0-py3-none-any.whl.metadata (24 kB)\n",
      "Requirement already satisfied: charset-normalizer<4,>=2 in /usr/local/lib/python3.11/dist-packages (from requests<3,>=2->langchain) (3.4.2)\n",
      "Requirement already satisfied: urllib3<3,>=1.21.1 in /usr/local/lib/python3.11/dist-packages (from requests<3,>=2->langchain) (2.4.0)\n",
      "Requirement already satisfied: greenlet>=1 in /usr/local/lib/python3.11/dist-packages (from SQLAlchemy<3,>=1.4->langchain) (3.2.2)\n",
      "Requirement already satisfied: networkx in /usr/local/lib/python3.11/dist-packages (from torch>=1.11.0->sentence-transformers) (3.5)\n",
      "Collecting nvidia-cuda-nvrtc-cu12==12.4.127 (from torch>=1.11.0->sentence-transformers)\n",
      "  Downloading nvidia_cuda_nvrtc_cu12-12.4.127-py3-none-manylinux2014_x86_64.whl.metadata (1.5 kB)\n",
      "Collecting nvidia-cuda-runtime-cu12==12.4.127 (from torch>=1.11.0->sentence-transformers)\n",
      "  Downloading nvidia_cuda_runtime_cu12-12.4.127-py3-none-manylinux2014_x86_64.whl.metadata (1.5 kB)\n",
      "Collecting nvidia-cuda-cupti-cu12==12.4.127 (from torch>=1.11.0->sentence-transformers)\n",
      "  Downloading nvidia_cuda_cupti_cu12-12.4.127-py3-none-manylinux2014_x86_64.whl.metadata (1.6 kB)\n",
      "Collecting nvidia-cudnn-cu12==9.1.0.70 (from torch>=1.11.0->sentence-transformers)\n",
      "  Downloading nvidia_cudnn_cu12-9.1.0.70-py3-none-manylinux2014_x86_64.whl.metadata (1.6 kB)\n",
      "Collecting nvidia-cublas-cu12==12.4.5.8 (from torch>=1.11.0->sentence-transformers)\n",
      "  Downloading nvidia_cublas_cu12-12.4.5.8-py3-none-manylinux2014_x86_64.whl.metadata (1.5 kB)\n",
      "Collecting nvidia-cufft-cu12==11.2.1.3 (from torch>=1.11.0->sentence-transformers)\n",
      "  Downloading nvidia_cufft_cu12-11.2.1.3-py3-none-manylinux2014_x86_64.whl.metadata (1.5 kB)\n",
      "Collecting nvidia-curand-cu12==10.3.5.147 (from torch>=1.11.0->sentence-transformers)\n",
      "  Downloading nvidia_curand_cu12-10.3.5.147-py3-none-manylinux2014_x86_64.whl.metadata (1.5 kB)\n",
      "Collecting nvidia-cusolver-cu12==11.6.1.9 (from torch>=1.11.0->sentence-transformers)\n",
      "  Downloading nvidia_cusolver_cu12-11.6.1.9-py3-none-manylinux2014_x86_64.whl.metadata (1.6 kB)\n",
      "Collecting nvidia-cusparse-cu12==12.3.1.170 (from torch>=1.11.0->sentence-transformers)\n",
      "  Downloading nvidia_cusparse_cu12-12.3.1.170-py3-none-manylinux2014_x86_64.whl.metadata (1.6 kB)\n",
      "Requirement already satisfied: nvidia-cusparselt-cu12==0.6.2 in /usr/local/lib/python3.11/dist-packages (from torch>=1.11.0->sentence-transformers) (0.6.2)\n",
      "Requirement already satisfied: nvidia-nccl-cu12==2.21.5 in /usr/local/lib/python3.11/dist-packages (from torch>=1.11.0->sentence-transformers) (2.21.5)\n",
      "Requirement already satisfied: nvidia-nvtx-cu12==12.4.127 in /usr/local/lib/python3.11/dist-packages (from torch>=1.11.0->sentence-transformers) (12.4.127)\n",
      "Collecting nvidia-nvjitlink-cu12==12.4.127 (from torch>=1.11.0->sentence-transformers)\n",
      "  Downloading nvidia_nvjitlink_cu12-12.4.127-py3-none-manylinux2014_x86_64.whl.metadata (1.5 kB)\n",
      "Requirement already satisfied: triton==3.2.0 in /usr/local/lib/python3.11/dist-packages (from torch>=1.11.0->sentence-transformers) (3.2.0)\n",
      "Requirement already satisfied: sympy==1.13.1 in /usr/local/lib/python3.11/dist-packages (from torch>=1.11.0->sentence-transformers) (1.13.1)\n",
      "Requirement already satisfied: mpmath<1.4,>=1.1.0 in /usr/local/lib/python3.11/dist-packages (from sympy==1.13.1->torch>=1.11.0->sentence-transformers) (1.3.0)\n",
      "Requirement already satisfied: click>=8.0.0 in /usr/local/lib/python3.11/dist-packages (from typer<1.0,>=0.12->gradio) (8.2.1)\n",
      "Requirement already satisfied: shellingham>=1.3.0 in /usr/local/lib/python3.11/dist-packages (from typer<1.0,>=0.12->gradio) (1.5.4)\n",
      "Requirement already satisfied: rich>=10.11.0 in /usr/local/lib/python3.11/dist-packages (from typer<1.0,>=0.12->gradio) (13.9.4)\n",
      "Requirement already satisfied: joblib>=1.2.0 in /usr/local/lib/python3.11/dist-packages (from scikit-learn->sentence-transformers) (1.5.1)\n",
      "Requirement already satisfied: threadpoolctl>=3.1.0 in /usr/local/lib/python3.11/dist-packages (from scikit-learn->sentence-transformers) (3.6.0)\n",
      "Requirement already satisfied: jsonpointer>=1.9 in /usr/local/lib/python3.11/dist-packages (from jsonpatch<2.0,>=1.33->langchain-core<1.0.0,>=0.3.58->langchain) (3.0.0)\n",
      "Requirement already satisfied: six>=1.5 in /usr/local/lib/python3.11/dist-packages (from python-dateutil>=2.8.2->pandas<3.0,>=1.0->gradio) (1.17.0)\n",
      "Requirement already satisfied: markdown-it-py>=2.2.0 in /usr/local/lib/python3.11/dist-packages (from rich>=10.11.0->typer<1.0,>=0.12->gradio) (3.0.0)\n",
      "Requirement already satisfied: pygments<3.0.0,>=2.13.0 in /usr/local/lib/python3.11/dist-packages (from rich>=10.11.0->typer<1.0,>=0.12->gradio) (2.19.1)\n",
      "Collecting mypy-extensions>=0.3.0 (from typing-inspect<1,>=0.4.0->dataclasses-json<0.7,>=0.5.7->langchain-community)\n",
      "  Downloading mypy_extensions-1.1.0-py3-none-any.whl.metadata (1.1 kB)\n",
      "Requirement already satisfied: mdurl~=0.1 in /usr/local/lib/python3.11/dist-packages (from markdown-it-py>=2.2.0->rich>=10.11.0->typer<1.0,>=0.12->gradio) (0.1.2)\n",
      "Downloading langchain_community-0.3.24-py3-none-any.whl (2.5 MB)\n",
      "\u001b[2K   \u001b[90m━━━━━━━━━━━━━━━━━━━━━━━━━━━━━━━━━━━━━━━━\u001b[0m \u001b[32m2.5/2.5 MB\u001b[0m \u001b[31m51.5 MB/s\u001b[0m eta \u001b[36m0:00:00\u001b[0m\n",
      "\u001b[?25hDownloading faiss_cpu-1.11.0-cp311-cp311-manylinux_2_28_x86_64.whl (31.3 MB)\n",
      "\u001b[2K   \u001b[90m━━━━━━━━━━━━━━━━━━━━━━━━━━━━━━━━━━━━━━━━\u001b[0m \u001b[32m31.3/31.3 MB\u001b[0m \u001b[31m80.1 MB/s\u001b[0m eta \u001b[36m0:00:00\u001b[0m\n",
      "\u001b[?25hDownloading transformers-4.52.4-py3-none-any.whl (10.5 MB)\n",
      "\u001b[2K   \u001b[90m━━━━━━━━━━━━━━━━━━━━━━━━━━━━━━━━━━━━━━━━\u001b[0m \u001b[32m10.5/10.5 MB\u001b[0m \u001b[31m148.8 MB/s\u001b[0m eta \u001b[36m0:00:00\u001b[0m\n",
      "\u001b[?25hDownloading pypdf2-3.0.1-py3-none-any.whl (232 kB)\n",
      "\u001b[2K   \u001b[90m━━━━━━━━━━━━━━━━━━━━━━━━━━━━━━━━━━━━━━━━\u001b[0m \u001b[32m232.6/232.6 kB\u001b[0m \u001b[31m24.1 MB/s\u001b[0m eta \u001b[36m0:00:00\u001b[0m\n",
      "\u001b[?25hDownloading gradio-5.33.0-py3-none-any.whl (54.2 MB)\n",
      "\u001b[2K   \u001b[90m━━━━━━━━━━━━━━━━━━━━━━━━━━━━━━━━━━━━━━━━\u001b[0m \u001b[32m54.2/54.2 MB\u001b[0m \u001b[31m14.5 MB/s\u001b[0m eta \u001b[36m0:00:00\u001b[0m\n",
      "\u001b[?25hDownloading gradio_client-1.10.2-py3-none-any.whl (323 kB)\n",
      "\u001b[2K   \u001b[90m━━━━━━━━━━━━━━━━━━━━━━━━━━━━━━━━━━━━━━━━\u001b[0m \u001b[32m323.3/323.3 kB\u001b[0m \u001b[31m16.8 MB/s\u001b[0m eta \u001b[36m0:00:00\u001b[0m\n",
      "\u001b[?25hDownloading dataclasses_json-0.6.7-py3-none-any.whl (28 kB)\n",
      "Downloading httpx_sse-0.4.0-py3-none-any.whl (7.8 kB)\n",
      "Downloading pydantic_settings-2.9.1-py3-none-any.whl (44 kB)\n",
      "\u001b[2K   \u001b[90m━━━━━━━━━━━━━━━━━━━━━━━━━━━━━━━━━━━━━━━━\u001b[0m \u001b[32m44.4/44.4 kB\u001b[0m \u001b[31m3.8 MB/s\u001b[0m eta \u001b[36m0:00:00\u001b[0m\n",
      "\u001b[?25hDownloading nvidia_cublas_cu12-12.4.5.8-py3-none-manylinux2014_x86_64.whl (363.4 MB)\n",
      "\u001b[2K   \u001b[90m━━━━━━━━━━━━━━━━━━━━━━━━━━━━━━━━━━━━━━━━\u001b[0m \u001b[32m363.4/363.4 MB\u001b[0m \u001b[31m4.2 MB/s\u001b[0m eta \u001b[36m0:00:00\u001b[0m\n",
      "\u001b[?25hDownloading nvidia_cuda_cupti_cu12-12.4.127-py3-none-manylinux2014_x86_64.whl (13.8 MB)\n",
      "\u001b[2K   \u001b[90m━━━━━━━━━━━━━━━━━━━━━━━━━━━━━━━━━━━━━━━━\u001b[0m \u001b[32m13.8/13.8 MB\u001b[0m \u001b[31m142.1 MB/s\u001b[0m eta \u001b[36m0:00:00\u001b[0m\n",
      "\u001b[?25hDownloading nvidia_cuda_nvrtc_cu12-12.4.127-py3-none-manylinux2014_x86_64.whl (24.6 MB)\n",
      "\u001b[2K   \u001b[90m━━━━━━━━━━━━━━━━━━━━━━━━━━━━━━━━━━━━━━━━\u001b[0m \u001b[32m24.6/24.6 MB\u001b[0m \u001b[31m107.5 MB/s\u001b[0m eta \u001b[36m0:00:00\u001b[0m\n",
      "\u001b[?25hDownloading nvidia_cuda_runtime_cu12-12.4.127-py3-none-manylinux2014_x86_64.whl (883 kB)\n",
      "\u001b[2K   \u001b[90m━━━━━━━━━━━━━━━━━━━━━━━━━━━━━━━━━━━━━━━━\u001b[0m \u001b[32m883.7/883.7 kB\u001b[0m \u001b[31m65.6 MB/s\u001b[0m eta \u001b[36m0:00:00\u001b[0m\n",
      "\u001b[?25hDownloading nvidia_cudnn_cu12-9.1.0.70-py3-none-manylinux2014_x86_64.whl (664.8 MB)\n",
      "\u001b[2K   \u001b[90m━━━━━━━━━━━━━━━━━━━━━━━━━━━━━━━━━━━━━━━━\u001b[0m \u001b[32m664.8/664.8 MB\u001b[0m \u001b[31m2.2 MB/s\u001b[0m eta \u001b[36m0:00:00\u001b[0m\n",
      "\u001b[?25hDownloading nvidia_cufft_cu12-11.2.1.3-py3-none-manylinux2014_x86_64.whl (211.5 MB)\n",
      "\u001b[2K   \u001b[90m━━━━━━━━━━━━━━━━━━━━━━━━━━━━━━━━━━━━━━━━\u001b[0m \u001b[32m211.5/211.5 MB\u001b[0m \u001b[31m5.6 MB/s\u001b[0m eta \u001b[36m0:00:00\u001b[0m\n",
      "\u001b[?25hDownloading nvidia_curand_cu12-10.3.5.147-py3-none-manylinux2014_x86_64.whl (56.3 MB)\n",
      "\u001b[2K   \u001b[90m━━━━━━━━━━━━━━━━━━━━━━━━━━━━━━━━━━━━━━━━\u001b[0m \u001b[32m56.3/56.3 MB\u001b[0m \u001b[31m14.7 MB/s\u001b[0m eta \u001b[36m0:00:00\u001b[0m\n",
      "\u001b[?25hDownloading nvidia_cusolver_cu12-11.6.1.9-py3-none-manylinux2014_x86_64.whl (127.9 MB)\n",
      "\u001b[2K   \u001b[90m━━━━━━━━━━━━━━━━━━━━━━━━━━━━━━━━━━━━━━━━\u001b[0m \u001b[32m127.9/127.9 MB\u001b[0m \u001b[31m7.6 MB/s\u001b[0m eta \u001b[36m0:00:00\u001b[0m\n",
      "\u001b[?25hDownloading nvidia_cusparse_cu12-12.3.1.170-py3-none-manylinux2014_x86_64.whl (207.5 MB)\n",
      "\u001b[2K   \u001b[90m━━━━━━━━━━━━━━━━━━━━━━━━━━━━━━━━━━━━━━━━\u001b[0m \u001b[32m207.5/207.5 MB\u001b[0m \u001b[31m9.2 MB/s\u001b[0m eta \u001b[36m0:00:00\u001b[0m\n",
      "\u001b[?25hDownloading nvidia_nvjitlink_cu12-12.4.127-py3-none-manylinux2014_x86_64.whl (21.1 MB)\n",
      "\u001b[2K   \u001b[90m━━━━━━━━━━━━━━━━━━━━━━━━━━━━━━━━━━━━━━━━\u001b[0m \u001b[32m21.1/21.1 MB\u001b[0m \u001b[31m127.5 MB/s\u001b[0m eta \u001b[36m0:00:00\u001b[0m\n",
      "\u001b[?25hDownloading marshmallow-3.26.1-py3-none-any.whl (50 kB)\n",
      "\u001b[2K   \u001b[90m━━━━━━━━━━━━━━━━━━━━━━━━━━━━━━━━━━━━━━━━\u001b[0m \u001b[32m50.9/50.9 kB\u001b[0m \u001b[31m5.4 MB/s\u001b[0m eta \u001b[36m0:00:00\u001b[0m\n",
      "\u001b[?25hDownloading python_dotenv-1.1.0-py3-none-any.whl (20 kB)\n",
      "Downloading typing_inspect-0.9.0-py3-none-any.whl (8.8 kB)\n",
      "Downloading mypy_extensions-1.1.0-py3-none-any.whl (5.0 kB)\n",
      "Installing collected packages: python-dotenv, PyPDF2, nvidia-nvjitlink-cu12, nvidia-curand-cu12, nvidia-cufft-cu12, nvidia-cuda-runtime-cu12, nvidia-cuda-nvrtc-cu12, nvidia-cuda-cupti-cu12, nvidia-cublas-cu12, mypy-extensions, marshmallow, httpx-sse, faiss-cpu, typing-inspect, nvidia-cusparse-cu12, nvidia-cudnn-cu12, pydantic-settings, nvidia-cusolver-cu12, gradio-client, dataclasses-json, transformers, gradio, langchain-community\n",
      "  Attempting uninstall: nvidia-nvjitlink-cu12\n",
      "    Found existing installation: nvidia-nvjitlink-cu12 12.5.82\n",
      "    Uninstalling nvidia-nvjitlink-cu12-12.5.82:\n",
      "      Successfully uninstalled nvidia-nvjitlink-cu12-12.5.82\n",
      "  Attempting uninstall: nvidia-curand-cu12\n",
      "    Found existing installation: nvidia-curand-cu12 10.3.6.82\n",
      "    Uninstalling nvidia-curand-cu12-10.3.6.82:\n",
      "      Successfully uninstalled nvidia-curand-cu12-10.3.6.82\n",
      "  Attempting uninstall: nvidia-cufft-cu12\n",
      "    Found existing installation: nvidia-cufft-cu12 11.2.3.61\n",
      "    Uninstalling nvidia-cufft-cu12-11.2.3.61:\n",
      "      Successfully uninstalled nvidia-cufft-cu12-11.2.3.61\n",
      "  Attempting uninstall: nvidia-cuda-runtime-cu12\n",
      "    Found existing installation: nvidia-cuda-runtime-cu12 12.5.82\n",
      "    Uninstalling nvidia-cuda-runtime-cu12-12.5.82:\n",
      "      Successfully uninstalled nvidia-cuda-runtime-cu12-12.5.82\n",
      "  Attempting uninstall: nvidia-cuda-nvrtc-cu12\n",
      "    Found existing installation: nvidia-cuda-nvrtc-cu12 12.5.82\n",
      "    Uninstalling nvidia-cuda-nvrtc-cu12-12.5.82:\n",
      "      Successfully uninstalled nvidia-cuda-nvrtc-cu12-12.5.82\n",
      "  Attempting uninstall: nvidia-cuda-cupti-cu12\n",
      "    Found existing installation: nvidia-cuda-cupti-cu12 12.5.82\n",
      "    Uninstalling nvidia-cuda-cupti-cu12-12.5.82:\n",
      "      Successfully uninstalled nvidia-cuda-cupti-cu12-12.5.82\n",
      "  Attempting uninstall: nvidia-cublas-cu12\n",
      "    Found existing installation: nvidia-cublas-cu12 12.5.3.2\n",
      "    Uninstalling nvidia-cublas-cu12-12.5.3.2:\n",
      "      Successfully uninstalled nvidia-cublas-cu12-12.5.3.2\n",
      "  Attempting uninstall: nvidia-cusparse-cu12\n",
      "    Found existing installation: nvidia-cusparse-cu12 12.5.1.3\n",
      "    Uninstalling nvidia-cusparse-cu12-12.5.1.3:\n",
      "      Successfully uninstalled nvidia-cusparse-cu12-12.5.1.3\n",
      "  Attempting uninstall: nvidia-cudnn-cu12\n",
      "    Found existing installation: nvidia-cudnn-cu12 9.3.0.75\n",
      "    Uninstalling nvidia-cudnn-cu12-9.3.0.75:\n",
      "      Successfully uninstalled nvidia-cudnn-cu12-9.3.0.75\n",
      "  Attempting uninstall: nvidia-cusolver-cu12\n",
      "    Found existing installation: nvidia-cusolver-cu12 11.6.3.83\n",
      "    Uninstalling nvidia-cusolver-cu12-11.6.3.83:\n",
      "      Successfully uninstalled nvidia-cusolver-cu12-11.6.3.83\n",
      "  Attempting uninstall: gradio-client\n",
      "    Found existing installation: gradio_client 1.10.1\n",
      "    Uninstalling gradio_client-1.10.1:\n",
      "      Successfully uninstalled gradio_client-1.10.1\n",
      "  Attempting uninstall: transformers\n",
      "    Found existing installation: transformers 4.52.3\n",
      "    Uninstalling transformers-4.52.3:\n",
      "      Successfully uninstalled transformers-4.52.3\n",
      "  Attempting uninstall: gradio\n",
      "    Found existing installation: gradio 5.31.0\n",
      "    Uninstalling gradio-5.31.0:\n",
      "      Successfully uninstalled gradio-5.31.0\n",
      "Successfully installed PyPDF2-3.0.1 dataclasses-json-0.6.7 faiss-cpu-1.11.0 gradio-5.33.0 gradio-client-1.10.2 httpx-sse-0.4.0 langchain-community-0.3.24 marshmallow-3.26.1 mypy-extensions-1.1.0 nvidia-cublas-cu12-12.4.5.8 nvidia-cuda-cupti-cu12-12.4.127 nvidia-cuda-nvrtc-cu12-12.4.127 nvidia-cuda-runtime-cu12-12.4.127 nvidia-cudnn-cu12-9.1.0.70 nvidia-cufft-cu12-11.2.1.3 nvidia-curand-cu12-10.3.5.147 nvidia-cusolver-cu12-11.6.1.9 nvidia-cusparse-cu12-12.3.1.170 nvidia-nvjitlink-cu12-12.4.127 pydantic-settings-2.9.1 python-dotenv-1.1.0 transformers-4.52.4 typing-inspect-0.9.0\n"
     ]
    }
   ],
   "source": [
    "# Step 1: Installing  Required Libraries\n",
    "!pip install -U langchain langchain-community sentence-transformers faiss-cpu transformers accelerate PyPDF2 gradio\n",
    "\n"
   ]
  },
  {
   "cell_type": "code",
   "execution_count": 3,
   "metadata": {
    "id": "jFYakQ7HbIj2"
   },
   "outputs": [],
   "source": [
    "# Step 2: Load and Process the PDFs\n",
    "from PyPDF2 import PdfReader\n",
    "\n",
    "def load_pdf(file_path):\n",
    "    reader = PdfReader(file_path)\n",
    "    text = \"\"\n",
    "    for page in reader.pages:\n",
    "        text += page.extract_text()\n",
    "    return text"
   ]
  },
  {
   "cell_type": "code",
   "execution_count": 4,
   "metadata": {
    "id": "DN5s1DjrbRse"
   },
   "outputs": [],
   "source": [
    "financial_text = load_pdf(\"/content/financial risk.pdf\")\n",
    "operational_text = load_pdf(\"/content/operations risk.pdf\")\n",
    "combined_docs = financial_text + \"\\n\" + operational_text"
   ]
  },
  {
   "cell_type": "code",
   "execution_count": 5,
   "metadata": {
    "id": "8jeRxdlWbVoT"
   },
   "outputs": [],
   "source": [
    "# Step 3: Split Text into Chunks\n",
    "from langchain.text_splitter import CharacterTextSplitter\n",
    "\n",
    "splitter = CharacterTextSplitter(\n",
    "    separator=\"\\n\",\n",
    "    chunk_size=1000,\n",
    "    chunk_overlap=200,\n",
    "    length_function=len\n",
    ")\n",
    "texts = splitter.split_text(combined_docs)\n"
   ]
  },
  {
   "cell_type": "code",
   "execution_count": 6,
   "metadata": {
    "colab": {
     "base_uri": "https://localhost:8080/",
     "height": 528,
     "referenced_widgets": [
      "e6a75e5a313147659c46c59236841f32",
      "6ff07ed70e19454296ab493464a9977b",
      "48030a2f1e2140b88352d80c9db90715",
      "96ae830951924c0fb2f845f14bfdcdd7",
      "0791d919c7f346ddb52e40c683628364",
      "05ec018ae7f74e94bb9d1de29d39a7ab",
      "100cfcf407ef498190f58d277929920b",
      "3f20fdc2a86749b8b2b047848d2a28d1",
      "8d773ef344e1422e8cef588cfc639509",
      "cab6bb88199a4d7199f485e934aeee8e",
      "eaa55f149b7b4a36a4a7473b75a36dd6",
      "4e57a3496c834dc7a17fc52c80409179",
      "a5e6276c799047f0ba991ae1dc259436",
      "647d64e45e944c56b8354290c9ef9180",
      "445fa72e35574056bc04975de44a353c",
      "1cd7b02460914767acf225f0b4ca72d8",
      "a9deafae02a74f7c82f182507e8586e7",
      "231d25b1dfac449d839d466983cec2cb",
      "58f7ae69526141688ba5c9920658e1cb",
      "3d8e347f3f994071a02122ab988ddd7d",
      "5a07877a074c4986a2b601d6db42681b",
      "04cefd5ff189458493dffd2bb6984379",
      "a4c7c320a1024ca9be6f3e52a42681aa",
      "e86e01de7b314ee2838bbccfc593c96c",
      "c7810a9e00a045f48d4bf21e3580c54f",
      "3c545b248dd54ae4b9393d21b562e6d2",
      "320e5b3d981d48b48e07cc0c9ad52d1e",
      "16db770a59cb41caa97f0bdfb08bff39",
      "74173372a6264bf8b444a0ddded86fbd",
      "5790b0a6094349b2976c7533d215e149",
      "58762a1eb2f342e3a63cf211c1bae535",
      "a817c888bc304037bd185d084538cd44",
      "badea917438a40a6ad582abc474f128c",
      "da31d846acf045d9be612f93bac05ba3",
      "0d1fc851565c4ba7895242769a9e0704",
      "b3b8521cfe884590ad68afd2dba25ae7",
      "90f4a76b836f49b8bd00218dff8ed81a",
      "4c7e406eba2f40a69ef3d01cd2af90b4",
      "c8f72adc770e4b308beb511015669577",
      "0cad8900dcdb447fb8a16f3f746c23ce",
      "c78338f085d84652b6e0818a31a1d196",
      "84449226923442118059b23ea901a3ff",
      "1d960a124c4a4fc6a8095bbb3a362334",
      "6d8354e8a5124cc49c2dc8546b4ecc9a",
      "7887b62964674661afdcffccc369edaf",
      "c405b64e58e74a8dbe3ec5b0f5388526",
      "b4201220c378401fb789ad35a763bc8e",
      "dd680def845648c891ee159c7f006515",
      "97a68a53a5874a6b963771d37bbcefd1",
      "55d0c57179c04c4483c3cbc28ee9a87c",
      "ac7d46c73551417e98c7f04d7c666dde",
      "7850df8d237148e295fd40ec8c3447ca",
      "00b827d2529c4b998a78783f910698ef",
      "2696b2392bad42d38f619fd59c964d46",
      "be6f08ad79de4cf3a71822b89000f0ea",
      "39d55034f2ef4c3baf4f480314db826b",
      "a69f8c74500d45c584ddcffa27f4893e",
      "0b3b91c04c114a24a3b74055ef518174",
      "cdc7bc3e60da4c508bab81d4d85b3674",
      "fd8793b8f8fa4cbda7da578dcb94f308",
      "88722c7f7f434816809ea3ec2626e4ee",
      "4a625cb462874c03a7208369260bff73",
      "92d696ccf4a940f688b2637a34ab8769",
      "49beefdb7dab450d9382511a71c0c0a8",
      "7373301309394d2387ce9046c87231e6",
      "e272951eb61e4b40b3b55de7e6c1cab5",
      "06d9b2bb3e7b4d8d81f1d27a3791315e",
      "76da33037fe24f35b4cf4b8d491e9cb3",
      "d6a0665647c44b159cd89018e73d178d",
      "1fe40ece9f7d456f88514017b6369363",
      "e268e380a33f482a93ad96cd03213902",
      "5e3e8d2dfac849d184549d93ec6dbbca",
      "9f855265695644f78d96bd22f90bdf28",
      "69aa9bc8efd147bdadeca6a022fb018f",
      "63678e1fd9bf4b45a392a430bc812484",
      "fae8a2dd16b0421889feaf25c9940ed8",
      "fd3f7655ce974f87a64dc96fb328d0da",
      "9be7e34a27ad46b9826deb558057e01d",
      "f6071304804c483285bd0b4ba764e83e",
      "8ff2c85272a442e8b43540323518c782",
      "d21edac1ba2c481a895ee21126bcebcb",
      "d55e0e8cc72f4c6f8fb3c16a690d694b",
      "7796c9c7f83b46f4a65db45a8e31ae54",
      "ff4f76f2a90641789e06fb69b54e9c67",
      "605e34689a3c424d8f7fdc58a6a00436",
      "83c6911c5c84486f9787204d919fbb63",
      "461a18b96a3843d094cb2f0ff8362854",
      "2aa3251022974ea092d99ceee061451d",
      "63f636080ce841458a12da9c953f0700",
      "86d7506226b54861bcdef65c86ba68dd",
      "726e2fa531644c91a8cd5a5c91bded1d",
      "01c4ff5169f04f9d92d70ce24bebaccf",
      "cc8d29024d8e48f39deeaf48e675762a",
      "57b8014ee91f4e52bd3624428cd1ef95",
      "64c6b0146178471590ec04903b036f5d",
      "4c352d6111094d33aee1b5c1aa743fbf",
      "08205dd8de74400d9adf1ab6864e1c77",
      "57ccd6a863f14c6e9e561dc29477dcfa",
      "06045e4f34eb48739b7d3c5ac72f359f",
      "625955547c444a2897be37ea6fb12521",
      "76a1f62e80c346428666844f42911521",
      "d17c0379744249fca3cc0e8ba57e577b",
      "e50017e2aec147299154dc0e258c0e94",
      "c768bbba3ef54ff18abc14eca1f46751",
      "0939d3e1b0764206b9b35b4394b4b450",
      "e17c03fc6c5242dab73086654e3f3d43",
      "8e46e453244b4b2186ba8af3b0afc81c",
      "95654febd2ba402ead1c2f23cddfa2d7",
      "8affa2e021494d9dbdbae2212b354297",
      "b7471dba960c4796a77ad4aa5785d67c",
      "1756c753ff604d7e8f68bed0a5b665f6",
      "b37f3cbb6c244557b512fab23e448273",
      "18ca898c1db848e89de5d284bc88f5e0",
      "cf55c4ee42844b648c4c471ec40e62f9",
      "91e9a1b5ea4b4b1f988358362635ac06",
      "d3dacd67098c47fbbabea88f2238264e",
      "6580b653bef04cda92d17caa2bfa0c97",
      "d7be6133e81b4566916e701533be617b",
      "cfba79d5c37843a3aa4e9971c71f524c",
      "63e49c91146747fc8bdda764b793fd32",
      "add577722d4044cbb407ca628074b034"
     ]
    },
    "id": "jepC0qj5baDr",
    "outputId": "ff7d454b-0886-4a9e-d710-2fa50b5364dd"
   },
   "outputs": [
    {
     "name": "stderr",
     "output_type": "stream",
     "text": [
      "<ipython-input-6-9cf709d45df2>:5: LangChainDeprecationWarning: The class `HuggingFaceEmbeddings` was deprecated in LangChain 0.2.2 and will be removed in 1.0. An updated version of the class exists in the :class:`~langchain-huggingface package and should be used instead. To use it run `pip install -U :class:`~langchain-huggingface` and import as `from :class:`~langchain_huggingface import HuggingFaceEmbeddings``.\n",
      "  embeddings = HuggingFaceEmbeddings(model_name=\"all-MiniLM-L6-v2\")\n",
      "/usr/local/lib/python3.11/dist-packages/huggingface_hub/utils/_auth.py:94: UserWarning: \n",
      "The secret `HF_TOKEN` does not exist in your Colab secrets.\n",
      "To authenticate with the Hugging Face Hub, create a token in your settings tab (https://huggingface.co/settings/tokens), set it as secret in your Google Colab and restart your session.\n",
      "You will be able to reuse this secret in all of your notebooks.\n",
      "Please note that authentication is recommended but still optional to access public models or datasets.\n",
      "  warnings.warn(\n"
     ]
    },
    {
     "data": {
      "application/vnd.jupyter.widget-view+json": {
       "model_id": "e6a75e5a313147659c46c59236841f32",
       "version_major": 2,
       "version_minor": 0
      },
      "text/plain": [
       "modules.json:   0%|          | 0.00/349 [00:00<?, ?B/s]"
      ]
     },
     "metadata": {},
     "output_type": "display_data"
    },
    {
     "data": {
      "application/vnd.jupyter.widget-view+json": {
       "model_id": "4e57a3496c834dc7a17fc52c80409179",
       "version_major": 2,
       "version_minor": 0
      },
      "text/plain": [
       "config_sentence_transformers.json:   0%|          | 0.00/116 [00:00<?, ?B/s]"
      ]
     },
     "metadata": {},
     "output_type": "display_data"
    },
    {
     "data": {
      "application/vnd.jupyter.widget-view+json": {
       "model_id": "a4c7c320a1024ca9be6f3e52a42681aa",
       "version_major": 2,
       "version_minor": 0
      },
      "text/plain": [
       "README.md:   0%|          | 0.00/10.5k [00:00<?, ?B/s]"
      ]
     },
     "metadata": {},
     "output_type": "display_data"
    },
    {
     "data": {
      "application/vnd.jupyter.widget-view+json": {
       "model_id": "da31d846acf045d9be612f93bac05ba3",
       "version_major": 2,
       "version_minor": 0
      },
      "text/plain": [
       "sentence_bert_config.json:   0%|          | 0.00/53.0 [00:00<?, ?B/s]"
      ]
     },
     "metadata": {},
     "output_type": "display_data"
    },
    {
     "data": {
      "application/vnd.jupyter.widget-view+json": {
       "model_id": "7887b62964674661afdcffccc369edaf",
       "version_major": 2,
       "version_minor": 0
      },
      "text/plain": [
       "config.json:   0%|          | 0.00/612 [00:00<?, ?B/s]"
      ]
     },
     "metadata": {},
     "output_type": "display_data"
    },
    {
     "data": {
      "application/vnd.jupyter.widget-view+json": {
       "model_id": "39d55034f2ef4c3baf4f480314db826b",
       "version_major": 2,
       "version_minor": 0
      },
      "text/plain": [
       "model.safetensors:   0%|          | 0.00/90.9M [00:00<?, ?B/s]"
      ]
     },
     "metadata": {},
     "output_type": "display_data"
    },
    {
     "data": {
      "application/vnd.jupyter.widget-view+json": {
       "model_id": "06d9b2bb3e7b4d8d81f1d27a3791315e",
       "version_major": 2,
       "version_minor": 0
      },
      "text/plain": [
       "tokenizer_config.json:   0%|          | 0.00/350 [00:00<?, ?B/s]"
      ]
     },
     "metadata": {},
     "output_type": "display_data"
    },
    {
     "data": {
      "application/vnd.jupyter.widget-view+json": {
       "model_id": "9be7e34a27ad46b9826deb558057e01d",
       "version_major": 2,
       "version_minor": 0
      },
      "text/plain": [
       "vocab.txt:   0%|          | 0.00/232k [00:00<?, ?B/s]"
      ]
     },
     "metadata": {},
     "output_type": "display_data"
    },
    {
     "data": {
      "application/vnd.jupyter.widget-view+json": {
       "model_id": "63f636080ce841458a12da9c953f0700",
       "version_major": 2,
       "version_minor": 0
      },
      "text/plain": [
       "tokenizer.json:   0%|          | 0.00/466k [00:00<?, ?B/s]"
      ]
     },
     "metadata": {},
     "output_type": "display_data"
    },
    {
     "data": {
      "application/vnd.jupyter.widget-view+json": {
       "model_id": "625955547c444a2897be37ea6fb12521",
       "version_major": 2,
       "version_minor": 0
      },
      "text/plain": [
       "special_tokens_map.json:   0%|          | 0.00/112 [00:00<?, ?B/s]"
      ]
     },
     "metadata": {},
     "output_type": "display_data"
    },
    {
     "data": {
      "application/vnd.jupyter.widget-view+json": {
       "model_id": "1756c753ff604d7e8f68bed0a5b665f6",
       "version_major": 2,
       "version_minor": 0
      },
      "text/plain": [
       "config.json:   0%|          | 0.00/190 [00:00<?, ?B/s]"
      ]
     },
     "metadata": {},
     "output_type": "display_data"
    }
   ],
   "source": [
    "# Step 4: Embed Text with HuggingFace Embeddings\n",
    "from langchain_community.embeddings import HuggingFaceEmbeddings\n",
    "from langchain_community.vectorstores import FAISS\n",
    "\n",
    "embeddings = HuggingFaceEmbeddings(model_name=\"all-MiniLM-L6-v2\")\n",
    "docsearch = FAISS.from_texts(texts, embeddings)"
   ]
  },
  {
   "cell_type": "code",
   "execution_count": 7,
   "metadata": {
    "id": "56J71UVTbfH2"
   },
   "outputs": [],
   "source": [
    " #Step 5: Load HuggingFace LLM Locally (flan-t5-small)\n",
    "from transformers import pipeline\n",
    "from langchain.llms import HuggingFacePipeline"
   ]
  },
  {
   "cell_type": "code",
   "execution_count": 8,
   "metadata": {
    "colab": {
     "base_uri": "https://localhost:8080/",
     "height": 313,
     "referenced_widgets": [
      "dd9f9ba62db049be8839f0cc05807a2e",
      "046e07641869486293e1c4570c19550c",
      "31e988495cac4e368702ab40ca8f64bb",
      "0ecd3da1a74648a1a96fd946d35bd0da",
      "1088bd857bb449329be4c64027081018",
      "908556a28e4d46cebd39a968c6a8f581",
      "8746c2840cde4d26af873035460180c2",
      "74b4160fd98c4715ba840b1e04297857",
      "8aab6e7bb1c74f91aa81fcbf8f492fef",
      "df307684d662499aa23a4435ea1ebcc3",
      "0b76f14e4ca747edad127c7aee8ea61a",
      "76698611d5c64268b92018a09c2ac46a",
      "16a68427f8cd41378912d8deca28f8a4",
      "717857bf6fd34c51b7cfaa98f843ad07",
      "ea6c58c122484b8094b50fe548144297",
      "31a95c74edba49be8d90b06d702ce56b",
      "c0a150fd861746f388ec68874284dcf7",
      "39b3aff3bcf244ef892a188b610e33c7",
      "fe2b3b0daa514c129e1822be603eb79b",
      "a61fe63f038a421e84a8b8a8594de7c6",
      "ac7daded4cc8416ea43f54e51811f014",
      "1aa46a12037744ff9cc0c4edacd90de5",
      "f964554d23d4475a8bb32a11f136f463",
      "b90c15df73a14ee78a14d629db1390ca",
      "e02a62e39729430f8c799f045381d6d5",
      "10461532da104644a89fcb690dea1ce2",
      "7797cda1a5154383aa884d6392d50ca2",
      "3a9526fd4f8c489786d6083fe3cd8c57",
      "4f252ed03b3f456687fb13d6f641a91c",
      "7f3dec5105d047688fa52bec5048e6d3",
      "ef3cbb91fd684eeab811a2becc33d216",
      "653ac9a76cc2427b8b8be1720a262e98",
      "95108e44421443d9b91f5923499483f0",
      "f5ba11d18d7a46e6b11e5b7e1bf7f98e",
      "252164c6b42c4f298f6df3aef3f5be83",
      "e31b0448a4b74828914fa245e5f93310",
      "fc880246e18540a9ac6400f4d3bd98ca",
      "84c6ca7c45074689a881eb55a0115da7",
      "25b6ecd9410f43bfbdb31ac5120c3106",
      "4e0218926f0b43beafe4940e63a5137e",
      "44f8ddb2865e4749a0fb32c421f264bb",
      "299364c336c74017b822c73f1be9b035",
      "e12921a48bcb4cbfb8225f785c6807e2",
      "f212d06835324bf5a28559bb1e6e6628",
      "aef5b9c76ed54ed184fb7514e0173725",
      "c65331922bc5453a91522c3f91e35b2a",
      "ef3589ee7ac04630bcd2dc20d0466270",
      "abe33ba8d21d4d438b971896533e8341",
      "40864008fb5d4feb8424b190fefb15a5",
      "36968b1f80b54ed2b74f86f1cd6820d9",
      "64d806b17b5f427a94876a1931d004bf",
      "3e50055a7e0348edbef8edad4f1036e6",
      "bd155d60ea444fac847966e918111591",
      "32d082b9955941bf80580799302ee28c",
      "ffb605532be5401781892ec2789b47e9",
      "4527e53d5840412ab1023b06988c2266",
      "8a6592b614c740b8b42b92e1dd27d763",
      "7fd4ff565b5c4280829998f055e06d83",
      "156abccb43cd4dba9d8ddcfc1ba26e18",
      "988e432844ad4b0faf768a3c12b61a3f",
      "5a906df950be4ddcb9a0b61a7ca7a7f8",
      "eceb85608a1545e1921b194a6572ce40",
      "68260764f29d44f0849b8bedcf2a5393",
      "7c2e102f3b6b4effa8ffb87e4dacc633",
      "b7b8e50303934130a53954acb422aee8",
      "46de1e824b964cfcb1f6220c5ce0bb73",
      "934eda8c60d34c71b9a6d307bbab22a7",
      "2cf1f91f89334b828ed1961e6c43c892",
      "b38024ba882d41cf971fb5b6bdbd2d71",
      "60fea9b8c0e7498eae429b9dd7a92a5a",
      "a74d954f7d824ae8919aa3ebc497040d",
      "3751020318d74b44ba42ae00cead9307",
      "8cb43c76a4554a0087d0c536c864ead0",
      "0e00d411768048f39c6519c270b0076f",
      "5a7e10e9dfa24843aab21957a620ae64",
      "90810b031d4d46e7a9e9ae22728ec3e7",
      "ec96072dbeba4af1ae208c0aa4f365eb"
     ]
    },
    "id": "78pApXvkbyyh",
    "outputId": "4b06e813-3943-41e1-c1de-74924c360b7f"
   },
   "outputs": [
    {
     "data": {
      "application/vnd.jupyter.widget-view+json": {
       "model_id": "dd9f9ba62db049be8839f0cc05807a2e",
       "version_major": 2,
       "version_minor": 0
      },
      "text/plain": [
       "config.json:   0%|          | 0.00/1.40k [00:00<?, ?B/s]"
      ]
     },
     "metadata": {},
     "output_type": "display_data"
    },
    {
     "data": {
      "application/vnd.jupyter.widget-view+json": {
       "model_id": "76698611d5c64268b92018a09c2ac46a",
       "version_major": 2,
       "version_minor": 0
      },
      "text/plain": [
       "model.safetensors:   0%|          | 0.00/308M [00:00<?, ?B/s]"
      ]
     },
     "metadata": {},
     "output_type": "display_data"
    },
    {
     "data": {
      "application/vnd.jupyter.widget-view+json": {
       "model_id": "f964554d23d4475a8bb32a11f136f463",
       "version_major": 2,
       "version_minor": 0
      },
      "text/plain": [
       "generation_config.json:   0%|          | 0.00/147 [00:00<?, ?B/s]"
      ]
     },
     "metadata": {},
     "output_type": "display_data"
    },
    {
     "data": {
      "application/vnd.jupyter.widget-view+json": {
       "model_id": "f5ba11d18d7a46e6b11e5b7e1bf7f98e",
       "version_major": 2,
       "version_minor": 0
      },
      "text/plain": [
       "tokenizer_config.json:   0%|          | 0.00/2.54k [00:00<?, ?B/s]"
      ]
     },
     "metadata": {},
     "output_type": "display_data"
    },
    {
     "data": {
      "application/vnd.jupyter.widget-view+json": {
       "model_id": "aef5b9c76ed54ed184fb7514e0173725",
       "version_major": 2,
       "version_minor": 0
      },
      "text/plain": [
       "spiece.model:   0%|          | 0.00/792k [00:00<?, ?B/s]"
      ]
     },
     "metadata": {},
     "output_type": "display_data"
    },
    {
     "data": {
      "application/vnd.jupyter.widget-view+json": {
       "model_id": "4527e53d5840412ab1023b06988c2266",
       "version_major": 2,
       "version_minor": 0
      },
      "text/plain": [
       "tokenizer.json:   0%|          | 0.00/2.42M [00:00<?, ?B/s]"
      ]
     },
     "metadata": {},
     "output_type": "display_data"
    },
    {
     "data": {
      "application/vnd.jupyter.widget-view+json": {
       "model_id": "934eda8c60d34c71b9a6d307bbab22a7",
       "version_major": 2,
       "version_minor": 0
      },
      "text/plain": [
       "special_tokens_map.json:   0%|          | 0.00/2.20k [00:00<?, ?B/s]"
      ]
     },
     "metadata": {},
     "output_type": "display_data"
    },
    {
     "name": "stderr",
     "output_type": "stream",
     "text": [
      "Device set to use cpu\n",
      "<ipython-input-8-12c80001e47d>:2: LangChainDeprecationWarning: The class `HuggingFacePipeline` was deprecated in LangChain 0.0.37 and will be removed in 1.0. An updated version of the class exists in the :class:`~langchain-huggingface package and should be used instead. To use it run `pip install -U :class:`~langchain-huggingface` and import as `from :class:`~langchain_huggingface import HuggingFacePipeline``.\n",
      "  llm = HuggingFacePipeline(pipeline=hf_pipeline)\n"
     ]
    }
   ],
   "source": [
    "hf_pipeline = pipeline(\"text2text-generation\", model=\"google/flan-t5-small\", max_length=512)\n",
    "llm = HuggingFacePipeline(pipeline=hf_pipeline)"
   ]
  },
  {
   "cell_type": "code",
   "execution_count": 9,
   "metadata": {
    "id": "uJk_cFlob26H"
   },
   "outputs": [],
   "source": [
    "# Step 6: Set up Retrieval-Augmented QA Chain\n",
    "from langchain.chains import RetrievalQA\n",
    "\n",
    "qa_chain = RetrievalQA.from_chain_type(\n",
    "    llm=llm,\n",
    "    chain_type=\"stuff\",\n",
    "    retriever=docsearch.as_retriever()\n",
    ")"
   ]
  },
  {
   "cell_type": "code",
   "execution_count": 10,
   "metadata": {
    "colab": {
     "base_uri": "https://localhost:8080/"
    },
    "id": "u2EXDJdCb7J4",
    "outputId": "384f06c8-279c-448a-cf20-e744d780570a"
   },
   "outputs": [
    {
     "name": "stderr",
     "output_type": "stream",
     "text": [
      "<ipython-input-10-5faf7f6da0bc>:3: LangChainDeprecationWarning: The method `Chain.run` was deprecated in langchain 0.1.0 and will be removed in 1.0. Use :meth:`~invoke` instead.\n",
      "  response = qa_chain.run(query)\n",
      "Token indices sequence length is longer than the specified maximum sequence length for this model (943 > 512). Running this sequence through the model will result in indexing errors\n"
     ]
    },
    {
     "name": "stdout",
     "output_type": "stream",
     "text": [
      "Bot: Operational risk is pervasive, complex and dynamic. Unlike ma rket and credit risk, RESERVE BANK OF INDIA DEPARTMENT OF BANKING OPERATIONS AND DEVELOPMENT CENTRAL OFFICE MUMBAIINDEX GUIDANCE NOTE ON OPERATIONAL RISK MANAGEMENT Subject 1 Executive Summary 2 Background 3 Organisational set-up and Key responsibilities for Operational Risk 4 Policy requirements and strategic approach 5 Identification and Assessment of Operational Risk 6 Monitoring of Operational Risk 7 Controls / Mitigation of Operational Risk 8 Independent evaluation of Operational Risk Managem ent 9 Capital allocation for Operational Risk Annex 1 Indicative role of Organisational arm of ris k management structure Annex 2 Mapping of Business Lines Annex 3 Loss Event type classification Annex 4 Advanced Measurement Methodologies PREFACE As a step towards enhancing and fine-tuning the risk mana gement practices as also to serve as a benchmark to banks, the Reserve Bank had issu ed Guidance Notes on management of credit risk and market risk in Octob er 2002\n"
     ]
    }
   ],
   "source": [
    "# Step 7: Ask a Question\n",
    "query = \"What is operational risk according to RBI?\"\n",
    "response = qa_chain.run(query)\n",
    "print(\"Bot:\", response)\n"
   ]
  },
  {
   "cell_type": "code",
   "execution_count": 11,
   "metadata": {
    "colab": {
     "base_uri": "https://localhost:8080/",
     "height": 258,
     "referenced_widgets": [
      "f499cd39e4284fad9d96a4e0e30204ee",
      "3e1c8863996b42eab7508645b3f351aa",
      "f2b6cd11e3554d5c9cd0b7086e06d67e",
      "59d8ac9326eb461dba7b208a2b2afc68",
      "6905d3670dcf4b538ef661e7117b7662",
      "9e804de0d4364c8e9130bb373e785690",
      "87fc4bc7e3e14672812e83cc6eb988d1",
      "9a0f8b2f5d714863a6d6049c4f345fdd",
      "053819dc74504ee8a25ef0369ccdde11",
      "d05d69b7f58b422bac9de543a223d984",
      "6ef688c0b72448d78f8459eb12e6d217",
      "9d65caaf074d45d383d07aee86b134b8",
      "95143ca325e24accad1d268868f438ab",
      "06dcfbc042834b15bc7d800ed73d9c67",
      "a6ae60e1698941fab6e7931bad49f03f",
      "e63737ec43994c24a020973c47a41dad",
      "d94038fe06f84dc9a0cafe5fc56bbaaa",
      "b1d17e93557b47619c52fc641030e25f",
      "08e08796421b4f108b928d7a1cd54d4a",
      "571776a6573c4841972a50a77f4c2751",
      "dfafa57a351d44cfb72e3314536dba68",
      "f5b7565181ab4edeab6e04326831a7c3",
      "a4e4ce051d08422aa457e5b23cedcbf2",
      "2958eb8bf1ac4b2399375f953b5ab1f5",
      "2f2bc51b97ee4618b069e4c16b0b1055",
      "1e076f4f535346a2aa12d1d6467850d3",
      "7e86f67e63b344bebd6b6d7291a07b06",
      "0f563a26d54348c3b53c8b52c737fa73",
      "6a4a8d56da7747a3b1f6df1c7b1fe704",
      "32280d798f304aa5b76dfb9cb92a31aa",
      "babec902eda845988d14f80176e6136d",
      "203394730cf34320bfa0eedb4d50ca68",
      "f4329cc9c91c4b0eb094c8df34d4b122",
      "a545feefc0554e019709d6f604d43d03",
      "f277d5f5e3ea4d49bd76c2c51e37439d",
      "e77f9c16e079457f8794dff58efd1f66",
      "09d1e688d44847a8bb80b736244b6c97",
      "48317194ddb746b998b66909db1c4320",
      "a33b0e7d7edd4eff9510e9139e1a7eb5",
      "817d1dbae7204695834f277ddb988352",
      "6942df7a5c08432da65dcb673feaffa0",
      "ba973b2eeea64933849b6c44ff1f7434",
      "c326852711dd4368a2da485a41a1792d",
      "540f1bfeba1945e8a7aa491e9155fc87",
      "0d74dfcf6d524a0b936c211c48cb303f",
      "6d701f558e6e4a328873ed3d637089bc",
      "de15ff8606d847fda5c08cb79679a35a",
      "d54ce1da4857485fbb41ed927779ac41",
      "0992cebfb6ef46139203a334f740efa5",
      "db8d390a36824b2b8d68ef60dc50a253",
      "7aaa2ad0ea604efab43f53613938bdef",
      "a0fb1c4fd4764bd4a92afc7b4e43ae14",
      "82f041661efc4134a0a1a3a06ac22c34",
      "e20c28dfd07241bc98bf6a67e8abb159",
      "270cb7539a444df4a0ba29237e848745",
      "dcfe39912e9f4f40b00936e94a8642d3",
      "d05fd2929b5d46e7adc7a5eb12b2b944",
      "8bb8d934131c47afb454d8ded9a596d4",
      "8f9fa017d47246eba9655f1502935054",
      "25d9fadd4bcc4dc1914eebb96cb00d97",
      "775decd8cfc241ac9ee161e93b95b08f",
      "1676e504fd2b4655ad0d9da5b3cdd609",
      "99ee2371aed34aa28139276885720357",
      "f71f66c833174d968224c2045213e3a3",
      "77d9f676d98748a9a6d0a10f5accf619",
      "a3438e58816f4beabe9810db712928ca",
      "b9a0d254f6274fc888dcbcdb000ca877",
      "1d44734f3a274dd495ad52235fed7581",
      "526ed33e0ac5436fbf79f088b8f0d2bd",
      "a22c89fc02ea4e6ebb105f80dfa9a9d0",
      "dde4e11ea7ac4c48bd4e7804103e513f",
      "fb791b8684bc4b88b7eda7b0f5ffe597",
      "277f837f32a940b1b44fd86fee92c2f4",
      "5fd8daf9076b4153937c17471163bf33",
      "f7b182e3fafe4fb4b597d6b1b67ddaa3",
      "5a58981b80974dfa80069d4a04bbfe14",
      "50a508c37e4b4c8594361bcb835ed7f8"
     ]
    },
    "id": "aFMhQjyJi5mJ",
    "outputId": "86e9ec5c-81b5-4fe6-8b61-9f997afeb1f0"
   },
   "outputs": [
    {
     "data": {
      "application/vnd.jupyter.widget-view+json": {
       "model_id": "f499cd39e4284fad9d96a4e0e30204ee",
       "version_major": 2,
       "version_minor": 0
      },
      "text/plain": [
       "config.json:   0%|          | 0.00/1.40k [00:00<?, ?B/s]"
      ]
     },
     "metadata": {},
     "output_type": "display_data"
    },
    {
     "data": {
      "application/vnd.jupyter.widget-view+json": {
       "model_id": "9d65caaf074d45d383d07aee86b134b8",
       "version_major": 2,
       "version_minor": 0
      },
      "text/plain": [
       "model.safetensors:   0%|          | 0.00/990M [00:00<?, ?B/s]"
      ]
     },
     "metadata": {},
     "output_type": "display_data"
    },
    {
     "data": {
      "application/vnd.jupyter.widget-view+json": {
       "model_id": "a4e4ce051d08422aa457e5b23cedcbf2",
       "version_major": 2,
       "version_minor": 0
      },
      "text/plain": [
       "generation_config.json:   0%|          | 0.00/147 [00:00<?, ?B/s]"
      ]
     },
     "metadata": {},
     "output_type": "display_data"
    },
    {
     "data": {
      "application/vnd.jupyter.widget-view+json": {
       "model_id": "a545feefc0554e019709d6f604d43d03",
       "version_major": 2,
       "version_minor": 0
      },
      "text/plain": [
       "tokenizer_config.json:   0%|          | 0.00/2.54k [00:00<?, ?B/s]"
      ]
     },
     "metadata": {},
     "output_type": "display_data"
    },
    {
     "data": {
      "application/vnd.jupyter.widget-view+json": {
       "model_id": "0d74dfcf6d524a0b936c211c48cb303f",
       "version_major": 2,
       "version_minor": 0
      },
      "text/plain": [
       "spiece.model:   0%|          | 0.00/792k [00:00<?, ?B/s]"
      ]
     },
     "metadata": {},
     "output_type": "display_data"
    },
    {
     "data": {
      "application/vnd.jupyter.widget-view+json": {
       "model_id": "dcfe39912e9f4f40b00936e94a8642d3",
       "version_major": 2,
       "version_minor": 0
      },
      "text/plain": [
       "tokenizer.json:   0%|          | 0.00/2.42M [00:00<?, ?B/s]"
      ]
     },
     "metadata": {},
     "output_type": "display_data"
    },
    {
     "data": {
      "application/vnd.jupyter.widget-view+json": {
       "model_id": "b9a0d254f6274fc888dcbcdb000ca877",
       "version_major": 2,
       "version_minor": 0
      },
      "text/plain": [
       "special_tokens_map.json:   0%|          | 0.00/2.20k [00:00<?, ?B/s]"
      ]
     },
     "metadata": {},
     "output_type": "display_data"
    },
    {
     "name": "stderr",
     "output_type": "stream",
     "text": [
      "Device set to use cpu\n"
     ]
    }
   ],
   "source": [
    "hf_pipeline = pipeline(\"text2text-generation\", model=\"google/flan-t5-base\", max_length=1024)\n"
   ]
  },
  {
   "cell_type": "code",
   "execution_count": 12,
   "metadata": {
    "id": "10pfKdGbjNX6"
   },
   "outputs": [],
   "source": [
    "qa_chain = RetrievalQA.from_chain_type(\n",
    "    llm=llm,\n",
    "    chain_type=\"map_reduce\",  # Better than \"stuff\" for long docs\n",
    "    retriever=docsearch.as_retriever()\n",
    ")\n"
   ]
  },
  {
   "cell_type": "code",
   "execution_count": 13,
   "metadata": {
    "colab": {
     "base_uri": "https://localhost:8080/",
     "height": 194,
     "referenced_widgets": [
      "0814fb1fd2e04fac92a22a7c9bf4fc87",
      "992ea4675c7a4d8baedfcf97a4aba64f",
      "d6f8922871db4b23acd341476ba5f4fd",
      "947ccd93ff1a444e915e453c85657bb8",
      "47a121e6c8924f47a3d35171684f1d09",
      "02dff603cbd549088ef5d22c03e0d325",
      "a07df734fba64fa4b3e86f33d01bc6ef",
      "2e6e5b15e6124bcc944407cf99becb46",
      "8da238e656ec46f2af8af9507cbfcf41",
      "7e523ae739054817b8334424b256905b",
      "9986d8b3a2ce49008f84f0512cecca4b",
      "6f2a7f6e146c472e84ff3fde90f75e16",
      "f547fc7d4cab4abf8b4587fab6dbad94",
      "828afb0251cf4c3c9d7332d08f0520c3",
      "08abe70dd46445418655575ee8e2f734",
      "534fd9414aec484c836e9d94df39b89b",
      "2b912ede3a1048d0ab5d1d22b619cdd1",
      "c962b36bf4e7448797358a8ece359c5a",
      "2e163bcce28545efa8045330549ed199",
      "308f86cf1c344721b2447065fca8b881",
      "44fa536a9a044867b03062d96c7cba6b",
      "00aa3e511188450e8adde869c1a61c7d",
      "083164a5e4bd4854926a8af60bd0b862",
      "79e5c134c5d6454bb28e607a07e451c1",
      "02887e7cc83a4825a442ccd6efb5f5cb",
      "f49516aaaecd48a29b0e6d6269ae90b9",
      "a1810138d2b8453692c23e448652940c",
      "7cd2342dc9e14e82af93bcbe03ae406c",
      "f5c7860317cd40cc9d36429352b3ed68",
      "f6ce79b44a2043ffa730077b0fefafae",
      "a3d81194dd0a4aa791d9f5492289a1a4",
      "965b6d848a4843f3a6a863dfb378019e",
      "9c59545fdae64c82837e86e68d739ada",
      "8cb5bc4c49dc42cb86a1a8557fc9c09a",
      "3df27d4c4f96485e945abda457ee78c5",
      "3c00f7adbd2248d6993397d788031be5",
      "35b2cb5eca7b4ce781e34da373916232",
      "f5c1ba2bcc9845f988fe31d1927c9dd0",
      "8ba6a5e1ba2147d587115f5905b5d8fd",
      "de46012ab95d4e8fbeb69b2e726c901b",
      "8f365dabbeae49b289348ab843a95287",
      "d08c95c1e6f4428399683da508079418",
      "83a982bedea04a6e9ffaefcc0032ebf9",
      "4a6148ce9b074e8199e3e1793614ed65",
      "2012571af81f41cdab7ed450e52d1bcd",
      "6a9150e1dcf54e5199a00c01714eb5de",
      "005663198b254fedbae02e93438c31c7",
      "7c249ac2c0e2432ab6625a9e2519df80",
      "3286bb3107614c6886f65fc36799117a",
      "e4c6fe23024e472289e572eb0d8c2693",
      "e9a62f3171274831b31c73ebde2b0966",
      "bd3a8a3d51b14912b01397f2d16566eb",
      "6d8648fca6854de4bc84f06f77322cff",
      "ccafc32d2c9f4465a9977ff183820d75",
      "57304293aa4343e6b75736e677cee952"
     ]
    },
    "id": "LwCJjHEdjR46",
    "outputId": "537909af-96c0-4420-9084-403e7d8186cd"
   },
   "outputs": [
    {
     "data": {
      "application/vnd.jupyter.widget-view+json": {
       "model_id": "0814fb1fd2e04fac92a22a7c9bf4fc87",
       "version_major": 2,
       "version_minor": 0
      },
      "text/plain": [
       "tokenizer_config.json:   0%|          | 0.00/26.0 [00:00<?, ?B/s]"
      ]
     },
     "metadata": {},
     "output_type": "display_data"
    },
    {
     "data": {
      "application/vnd.jupyter.widget-view+json": {
       "model_id": "6f2a7f6e146c472e84ff3fde90f75e16",
       "version_major": 2,
       "version_minor": 0
      },
      "text/plain": [
       "vocab.json:   0%|          | 0.00/1.04M [00:00<?, ?B/s]"
      ]
     },
     "metadata": {},
     "output_type": "display_data"
    },
    {
     "data": {
      "application/vnd.jupyter.widget-view+json": {
       "model_id": "083164a5e4bd4854926a8af60bd0b862",
       "version_major": 2,
       "version_minor": 0
      },
      "text/plain": [
       "merges.txt:   0%|          | 0.00/456k [00:00<?, ?B/s]"
      ]
     },
     "metadata": {},
     "output_type": "display_data"
    },
    {
     "data": {
      "application/vnd.jupyter.widget-view+json": {
       "model_id": "8cb5bc4c49dc42cb86a1a8557fc9c09a",
       "version_major": 2,
       "version_minor": 0
      },
      "text/plain": [
       "tokenizer.json:   0%|          | 0.00/1.36M [00:00<?, ?B/s]"
      ]
     },
     "metadata": {},
     "output_type": "display_data"
    },
    {
     "data": {
      "application/vnd.jupyter.widget-view+json": {
       "model_id": "2012571af81f41cdab7ed450e52d1bcd",
       "version_major": 2,
       "version_minor": 0
      },
      "text/plain": [
       "config.json:   0%|          | 0.00/665 [00:00<?, ?B/s]"
      ]
     },
     "metadata": {},
     "output_type": "display_data"
    },
    {
     "name": "stderr",
     "output_type": "stream",
     "text": [
      "Token indices sequence length is longer than the specified maximum sequence length for this model (2066 > 1024). Running this sequence through the model will result in indexing errors\n"
     ]
    }
   ],
   "source": [
    "query = (\n",
    "    \"According to the RBI’s operational risk guidelines, \"\n",
    "    \"how should a bank structure its risk governance framework?\"\n",
    ")\n",
    "response = qa_chain.run(query)\n"
   ]
  },
  {
   "cell_type": "code",
   "execution_count": 14,
   "metadata": {
    "colab": {
     "base_uri": "https://localhost:8080/",
     "height": 646
    },
    "id": "av-3c1c3cSza",
    "outputId": "a097cfc1-d0b7-4ff7-f577-ffd4baeee4cc"
   },
   "outputs": [
    {
     "name": "stdout",
     "output_type": "stream",
     "text": [
      "It looks like you are running Gradio on a hosted a Jupyter notebook. For the Gradio app to work, sharing must be enabled. Automatically setting `share=True` (you can turn this off by setting `share=False` in `launch()` explicitly).\n",
      "\n",
      "Colab notebook detected. To show errors in colab notebook, set debug=True in launch()\n",
      "* Running on public URL: https://ffdd0713a5b8ea9852.gradio.live\n",
      "\n",
      "This share link expires in 1 week. For free permanent hosting and GPU upgrades, run `gradio deploy` from the terminal in the working directory to deploy to Hugging Face Spaces (https://huggingface.co/spaces)\n"
     ]
    },
    {
     "data": {
      "text/html": [
       "<div><iframe src=\"https://ffdd0713a5b8ea9852.gradio.live\" width=\"100%\" height=\"500\" allow=\"autoplay; camera; microphone; clipboard-read; clipboard-write;\" frameborder=\"0\" allowfullscreen></iframe></div>"
      ],
      "text/plain": [
       "<IPython.core.display.HTML object>"
      ]
     },
     "metadata": {},
     "output_type": "display_data"
    },
    {
     "data": {
      "text/plain": []
     },
     "execution_count": 14,
     "metadata": {},
     "output_type": "execute_result"
    }
   ],
   "source": [
    "# Step 8: Optional - Gradio Chat Interface\n",
    "import gradio as gr\n",
    "\n",
    "def chatbot_interface(question):\n",
    "    return qa_chain.run(question)\n",
    "\n",
    "gr.Interface(fn=chatbot_interface, inputs=\"text\", outputs=\"text\", title=\"RBI Risk Chatbot (HuggingFace)\").launch()\n"
   ]
  },
  {
   "cell_type": "code",
   "execution_count": null,
   "metadata": {
    "id": "m6uEqTLPp2OA"
   },
   "outputs": [],
   "source": []
  }
 ],
 "metadata": {
  "colab": {
   "provenance": []
  },
  "kernelspec": {
   "display_name": "Python 3",
   "name": "python3"
  },
  "language_info": {
   "name": "python"
  }
 },
 "nbformat": 4,
 "nbformat_minor": 0
}
